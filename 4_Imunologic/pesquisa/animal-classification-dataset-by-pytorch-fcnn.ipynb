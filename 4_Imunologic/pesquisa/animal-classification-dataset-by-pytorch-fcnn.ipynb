{
 "cells": [
  {
   "cell_type": "code",
   "execution_count": 1,
   "id": "2d742015",
   "metadata": {
    "_cell_guid": "b1076dfc-b9ad-4769-8c92-a6c4dae69d19",
    "_uuid": "8f2839f25d086af736a60e9eeb907d3b93b6e0e5",
    "execution": {
     "iopub.execute_input": "2023-07-15T18:04:04.745191Z",
     "iopub.status.busy": "2023-07-15T18:04:04.744844Z",
     "iopub.status.idle": "2023-07-15T18:04:04.761967Z",
     "shell.execute_reply": "2023-07-15T18:04:04.760905Z"
    },
    "papermill": {
     "duration": 0.025963,
     "end_time": "2023-07-15T18:04:04.763863",
     "exception": false,
     "start_time": "2023-07-15T18:04:04.737900",
     "status": "completed"
    },
    "tags": []
   },
   "outputs": [
    {
     "name": "stdout",
     "output_type": "stream",
     "text": [
      "/kaggle/input/zoo-animal-classification/class.csv\n",
      "/kaggle/input/zoo-animal-classification/zoo.csv\n"
     ]
    }
   ],
   "source": [
    "# This Python 3 environment comes with many helpful analytics libraries installed\n",
    "# It is defined by the kaggle/python Docker image: https://github.com/kaggle/docker-python\n",
    "# For example, here's several helpful packages to load\n",
    "\n",
    "import numpy as np # linear algebra\n",
    "import pandas as pd # data processing, CSV file I/O (e.g. pd.read_csv)\n",
    "\n",
    "# Input data files are available in the read-only \"../input/\" directory\n",
    "# For example, running this (by clicking run or pressing Shift+Enter) will list all files under the input directory\n",
    "\n",
    "import os\n",
    "for dirname, _, filenames in os.walk('/kaggle/input'):\n",
    "    for filename in filenames:\n",
    "        print(os.path.join(dirname, filename))\n",
    "\n",
    "# You can write up to 20GB to the current directory (/kaggle/working/) that gets preserved as output when you create a version using \"Save & Run All\" \n",
    "# You can also write temporary files to /kaggle/temp/, but they won't be saved outside of the current session"
   ]
  },
  {
   "cell_type": "code",
   "execution_count": 2,
   "id": "bbc31606",
   "metadata": {
    "execution": {
     "iopub.execute_input": "2023-07-15T18:04:04.774831Z",
     "iopub.status.busy": "2023-07-15T18:04:04.774555Z",
     "iopub.status.idle": "2023-07-15T18:04:08.892118Z",
     "shell.execute_reply": "2023-07-15T18:04:08.891441Z"
    },
    "papermill": {
     "duration": 4.125438,
     "end_time": "2023-07-15T18:04:08.894255",
     "exception": false,
     "start_time": "2023-07-15T18:04:04.768817",
     "status": "completed"
    },
    "tags": []
   },
   "outputs": [
    {
     "name": "stderr",
     "output_type": "stream",
     "text": [
      "/opt/conda/lib/python3.10/site-packages/scipy/__init__.py:146: UserWarning: A NumPy version >=1.16.5 and <1.23.0 is required for this version of SciPy (detected version 1.23.5\n",
      "  warnings.warn(f\"A NumPy version >={np_minversion} and <{np_maxversion}\"\n"
     ]
    }
   ],
   "source": [
    "from sklearn.model_selection import train_test_split\n",
    "from sklearn.metrics import confusion_matrix, f1_score, classification_report, accuracy_score\n",
    "\n",
    "import matplotlib.pyplot as plt\n",
    "import seaborn as sns\n",
    "\n",
    "import torch\n",
    "from torch import nn\n",
    "\n",
    "%matplotlib inline"
   ]
  },
  {
   "cell_type": "code",
   "execution_count": 3,
   "id": "bcc76241",
   "metadata": {
    "execution": {
     "iopub.execute_input": "2023-07-15T18:04:08.906872Z",
     "iopub.status.busy": "2023-07-15T18:04:08.905640Z",
     "iopub.status.idle": "2023-07-15T18:04:08.933490Z",
     "shell.execute_reply": "2023-07-15T18:04:08.932340Z"
    },
    "papermill": {
     "duration": 0.036303,
     "end_time": "2023-07-15T18:04:08.935679",
     "exception": false,
     "start_time": "2023-07-15T18:04:08.899376",
     "status": "completed"
    },
    "tags": []
   },
   "outputs": [],
   "source": [
    "class_data = pd.read_csv(\"/kaggle/input/zoo-animal-classification/class.csv\")\n",
    "data = pd.read_csv(\"/kaggle/input/zoo-animal-classification/zoo.csv\")"
   ]
  },
  {
   "cell_type": "code",
   "execution_count": 4,
   "id": "dffcd1a1",
   "metadata": {
    "execution": {
     "iopub.execute_input": "2023-07-15T18:04:08.947198Z",
     "iopub.status.busy": "2023-07-15T18:04:08.946784Z",
     "iopub.status.idle": "2023-07-15T18:04:09.171358Z",
     "shell.execute_reply": "2023-07-15T18:04:09.170290Z"
    },
    "papermill": {
     "duration": 0.232447,
     "end_time": "2023-07-15T18:04:09.173246",
     "exception": false,
     "start_time": "2023-07-15T18:04:08.940799",
     "status": "completed"
    },
    "tags": []
   },
   "outputs": [
    {
     "data": {
      "image/png": "[encoded data removed]",
      "text/plain": [
       "<Figure size 640x480 with 1 Axes>"
      ]
     },
     "metadata": {},
     "output_type": "display_data"
    }
   ],
   "source": [
    "#Basical representation of class counts, observe the unbalanced count for mammals and others\n",
    "\n",
    "plt.bar(class_data[\"Class_Type\"], class_data[\"Number_Of_Animal_Species_In_Class\"])\n",
    "plt.ylabel('Count')\n",
    "plt.xlabel('Animal class')\n",
    "plt.tight_layout()\n",
    "plt.show()"
   ]
  },
  {
   "cell_type": "code",
   "execution_count": 5,
   "id": "dd2dabb9",
   "metadata": {
    "execution": {
     "iopub.execute_input": "2023-07-15T18:04:09.184532Z",
     "iopub.status.busy": "2023-07-15T18:04:09.184242Z",
     "iopub.status.idle": "2023-07-15T18:04:09.204503Z",
     "shell.execute_reply": "2023-07-15T18:04:09.203411Z"
    },
    "papermill": {
     "duration": 0.027737,
     "end_time": "2023-07-15T18:04:09.206131",
     "exception": false,
     "start_time": "2023-07-15T18:04:09.178394",
     "status": "completed"
    },
    "tags": []
   },
   "outputs": [
    {
     "name": "stdout",
     "output_type": "stream",
     "text": [
      "<class 'pandas.core.frame.DataFrame'>\n",
      "RangeIndex: 101 entries, 0 to 100\n",
      "Data columns (total 18 columns):\n",
      " #   Column       Non-Null Count  Dtype \n",
      "---  ------       --------------  ----- \n",
      " 0   animal_name  101 non-null    object\n",
      " 1   hair         101 non-null    int64 \n",
      " 2   feathers     101 non-null    int64 \n",
      " 3   eggs         101 non-null    int64 \n",
      " 4   milk         101 non-null    int64 \n",
      " 5   airborne     101 non-null    int64 \n",
      " 6   aquatic      101 non-null    int64 \n",
      " 7   predator     101 non-null    int64 \n",
      " 8   toothed      101 non-null    int64 \n",
      " 9   backbone     101 non-null    int64 \n",
      " 10  breathes     101 non-null    int64 \n",
      " 11  venomous     101 non-null    int64 \n",
      " 12  fins         101 non-null    int64 \n",
      " 13  legs         101 non-null    int64 \n",
      " 14  tail         101 non-null    int64 \n",
      " 15  domestic     101 non-null    int64 \n",
      " 16  catsize      101 non-null    int64 \n",
      " 17  class_type   101 non-null    int64 \n",
      "dtypes: int64(17), object(1)\n",
      "memory usage: 14.3+ KB\n"
     ]
    }
   ],
   "source": [
    "#Analyzing the specification of the data\n",
    "data.info()"
   ]
  },
  {
   "cell_type": "code",
   "execution_count": 6,
   "id": "8a471566",
   "metadata": {
    "execution": {
     "iopub.execute_input": "2023-07-15T18:04:09.217243Z",
     "iopub.status.busy": "2023-07-15T18:04:09.216962Z",
     "iopub.status.idle": "2023-07-15T18:04:09.232179Z",
     "shell.execute_reply": "2023-07-15T18:04:09.231326Z"
    },
    "papermill": {
     "duration": 0.022809,
     "end_time": "2023-07-15T18:04:09.233971",
     "exception": false,
     "start_time": "2023-07-15T18:04:09.211162",
     "status": "completed"
    },
    "tags": []
   },
   "outputs": [
    {
     "data": {
      "text/html": [
       "<div>\n",
       "<style scoped>\n",
       "    .dataframe tbody tr th:only-of-type {\n",
       "        vertical-align: middle;\n",
       "    }\n",
       "\n",
       "    .dataframe tbody tr th {\n",
       "        vertical-align: top;\n",
       "    }\n",
       "\n",
       "    .dataframe thead th {\n",
       "        text-align: right;\n",
       "    }\n",
       "</style>\n",
       "<table border=\"1\" class=\"dataframe\">\n",
       "  <thead>\n",
       "    <tr style=\"text-align: right;\">\n",
       "      <th></th>\n",
       "      <th>animal_name</th>\n",
       "      <th>hair</th>\n",
       "      <th>feathers</th>\n",
       "      <th>eggs</th>\n",
       "      <th>milk</th>\n",
       "      <th>airborne</th>\n",
       "      <th>aquatic</th>\n",
       "      <th>predator</th>\n",
       "      <th>toothed</th>\n",
       "      <th>backbone</th>\n",
       "      <th>breathes</th>\n",
       "      <th>venomous</th>\n",
       "      <th>fins</th>\n",
       "      <th>legs</th>\n",
       "      <th>tail</th>\n",
       "      <th>domestic</th>\n",
       "      <th>catsize</th>\n",
       "      <th>class_type</th>\n",
       "    </tr>\n",
       "  </thead>\n",
       "  <tbody>\n",
       "    <tr>\n",
       "      <th>0</th>\n",
       "      <td>aardvark</td>\n",
       "      <td>1</td>\n",
       "      <td>0</td>\n",
       "      <td>0</td>\n",
       "      <td>1</td>\n",
       "      <td>0</td>\n",
       "      <td>0</td>\n",
       "      <td>1</td>\n",
       "      <td>1</td>\n",
       "      <td>1</td>\n",
       "      <td>1</td>\n",
       "      <td>0</td>\n",
       "      <td>0</td>\n",
       "      <td>4</td>\n",
       "      <td>0</td>\n",
       "      <td>0</td>\n",
       "      <td>1</td>\n",
       "      <td>1</td>\n",
       "    </tr>\n",
       "    <tr>\n",
       "      <th>1</th>\n",
       "      <td>antelope</td>\n",
       "      <td>1</td>\n",
       "      <td>0</td>\n",
       "      <td>0</td>\n",
       "      <td>1</td>\n",
       "      <td>0</td>\n",
       "      <td>0</td>\n",
       "      <td>0</td>\n",
       "      <td>1</td>\n",
       "      <td>1</td>\n",
       "      <td>1</td>\n",
       "      <td>0</td>\n",
       "      <td>0</td>\n",
       "      <td>4</td>\n",
       "      <td>1</td>\n",
       "      <td>0</td>\n",
       "      <td>1</td>\n",
       "      <td>1</td>\n",
       "    </tr>\n",
       "    <tr>\n",
       "      <th>2</th>\n",
       "      <td>bass</td>\n",
       "      <td>0</td>\n",
       "      <td>0</td>\n",
       "      <td>1</td>\n",
       "      <td>0</td>\n",
       "      <td>0</td>\n",
       "      <td>1</td>\n",
       "      <td>1</td>\n",
       "      <td>1</td>\n",
       "      <td>1</td>\n",
       "      <td>0</td>\n",
       "      <td>0</td>\n",
       "      <td>1</td>\n",
       "      <td>0</td>\n",
       "      <td>1</td>\n",
       "      <td>0</td>\n",
       "      <td>0</td>\n",
       "      <td>4</td>\n",
       "    </tr>\n",
       "    <tr>\n",
       "      <th>3</th>\n",
       "      <td>bear</td>\n",
       "      <td>1</td>\n",
       "      <td>0</td>\n",
       "      <td>0</td>\n",
       "      <td>1</td>\n",
       "      <td>0</td>\n",
       "      <td>0</td>\n",
       "      <td>1</td>\n",
       "      <td>1</td>\n",
       "      <td>1</td>\n",
       "      <td>1</td>\n",
       "      <td>0</td>\n",
       "      <td>0</td>\n",
       "      <td>4</td>\n",
       "      <td>0</td>\n",
       "      <td>0</td>\n",
       "      <td>1</td>\n",
       "      <td>1</td>\n",
       "    </tr>\n",
       "    <tr>\n",
       "      <th>4</th>\n",
       "      <td>boar</td>\n",
       "      <td>1</td>\n",
       "      <td>0</td>\n",
       "      <td>0</td>\n",
       "      <td>1</td>\n",
       "      <td>0</td>\n",
       "      <td>0</td>\n",
       "      <td>1</td>\n",
       "      <td>1</td>\n",
       "      <td>1</td>\n",
       "      <td>1</td>\n",
       "      <td>0</td>\n",
       "      <td>0</td>\n",
       "      <td>4</td>\n",
       "      <td>1</td>\n",
       "      <td>0</td>\n",
       "      <td>1</td>\n",
       "      <td>1</td>\n",
       "    </tr>\n",
       "  </tbody>\n",
       "</table>\n",
       "</div>"
      ],
      "text/plain": [
       "  animal_name  hair  feathers  eggs  milk  airborne  aquatic  predator  \\\n",
       "0    aardvark     1         0     0     1         0        0         1   \n",
       "1    antelope     1         0     0     1         0        0         0   \n",
       "2        bass     0         0     1     0         0        1         1   \n",
       "3        bear     1         0     0     1         0        0         1   \n",
       "4        boar     1         0     0     1         0        0         1   \n",
       "\n",
       "   toothed  backbone  breathes  venomous  fins  legs  tail  domestic  catsize  \\\n",
       "0        1         1         1         0     0     4     0         0        1   \n",
       "1        1         1         1         0     0     4     1         0        1   \n",
       "2        1         1         0         0     1     0     1         0        0   \n",
       "3        1         1         1         0     0     4     0         0        1   \n",
       "4        1         1         1         0     0     4     1         0        1   \n",
       "\n",
       "   class_type  \n",
       "0           1  \n",
       "1           1  \n",
       "2           4  \n",
       "3           1  \n",
       "4           1  "
      ]
     },
     "execution_count": 6,
     "metadata": {},
     "output_type": "execute_result"
    }
   ],
   "source": [
    "data.head()"
   ]
  },
  {
   "cell_type": "code",
   "execution_count": 7,
   "id": "14f39c09",
   "metadata": {
    "execution": {
     "iopub.execute_input": "2023-07-15T18:04:09.246325Z",
     "iopub.status.busy": "2023-07-15T18:04:09.245624Z",
     "iopub.status.idle": "2023-07-15T18:04:09.255637Z",
     "shell.execute_reply": "2023-07-15T18:04:09.254696Z"
    },
    "papermill": {
     "duration": 0.017682,
     "end_time": "2023-07-15T18:04:09.257259",
     "exception": false,
     "start_time": "2023-07-15T18:04:09.239577",
     "status": "completed"
    },
    "tags": []
   },
   "outputs": [
    {
     "data": {
      "text/html": [
       "<div>\n",
       "<style scoped>\n",
       "    .dataframe tbody tr th:only-of-type {\n",
       "        vertical-align: middle;\n",
       "    }\n",
       "\n",
       "    .dataframe tbody tr th {\n",
       "        vertical-align: top;\n",
       "    }\n",
       "\n",
       "    .dataframe thead th {\n",
       "        text-align: right;\n",
       "    }\n",
       "</style>\n",
       "<table border=\"1\" class=\"dataframe\">\n",
       "  <thead>\n",
       "    <tr style=\"text-align: right;\">\n",
       "      <th></th>\n",
       "      <th>Class_Number</th>\n",
       "      <th>Number_Of_Animal_Species_In_Class</th>\n",
       "      <th>Class_Type</th>\n",
       "      <th>Animal_Names</th>\n",
       "    </tr>\n",
       "  </thead>\n",
       "  <tbody>\n",
       "    <tr>\n",
       "      <th>0</th>\n",
       "      <td>1</td>\n",
       "      <td>41</td>\n",
       "      <td>Mammal</td>\n",
       "      <td>aardvark, antelope, bear, boar, buffalo, calf,...</td>\n",
       "    </tr>\n",
       "    <tr>\n",
       "      <th>1</th>\n",
       "      <td>2</td>\n",
       "      <td>20</td>\n",
       "      <td>Bird</td>\n",
       "      <td>chicken, crow, dove, duck, flamingo, gull, haw...</td>\n",
       "    </tr>\n",
       "    <tr>\n",
       "      <th>2</th>\n",
       "      <td>3</td>\n",
       "      <td>5</td>\n",
       "      <td>Reptile</td>\n",
       "      <td>pitviper, seasnake, slowworm, tortoise, tuatara</td>\n",
       "    </tr>\n",
       "    <tr>\n",
       "      <th>3</th>\n",
       "      <td>4</td>\n",
       "      <td>13</td>\n",
       "      <td>Fish</td>\n",
       "      <td>bass, carp, catfish, chub, dogfish, haddock, h...</td>\n",
       "    </tr>\n",
       "    <tr>\n",
       "      <th>4</th>\n",
       "      <td>5</td>\n",
       "      <td>4</td>\n",
       "      <td>Amphibian</td>\n",
       "      <td>frog, frog, newt, toad</td>\n",
       "    </tr>\n",
       "  </tbody>\n",
       "</table>\n",
       "</div>"
      ],
      "text/plain": [
       "   Class_Number  Number_Of_Animal_Species_In_Class Class_Type  \\\n",
       "0             1                                 41     Mammal   \n",
       "1             2                                 20       Bird   \n",
       "2             3                                  5    Reptile   \n",
       "3             4                                 13       Fish   \n",
       "4             5                                  4  Amphibian   \n",
       "\n",
       "                                        Animal_Names  \n",
       "0  aardvark, antelope, bear, boar, buffalo, calf,...  \n",
       "1  chicken, crow, dove, duck, flamingo, gull, haw...  \n",
       "2    pitviper, seasnake, slowworm, tortoise, tuatara  \n",
       "3  bass, carp, catfish, chub, dogfish, haddock, h...  \n",
       "4                             frog, frog, newt, toad  "
      ]
     },
     "execution_count": 7,
     "metadata": {},
     "output_type": "execute_result"
    }
   ],
   "source": [
    "class_data.head()"
   ]
  },
  {
   "cell_type": "code",
   "execution_count": 8,
   "id": "87f8dfb5",
   "metadata": {
    "execution": {
     "iopub.execute_input": "2023-07-15T18:04:09.271533Z",
     "iopub.status.busy": "2023-07-15T18:04:09.270350Z",
     "iopub.status.idle": "2023-07-15T18:04:09.279919Z",
     "shell.execute_reply": "2023-07-15T18:04:09.279090Z"
    },
    "papermill": {
     "duration": 0.018837,
     "end_time": "2023-07-15T18:04:09.281503",
     "exception": false,
     "start_time": "2023-07-15T18:04:09.262666",
     "status": "completed"
    },
    "tags": []
   },
   "outputs": [
    {
     "name": "stdout",
     "output_type": "stream",
     "text": [
      "Size of train features data: (67, 16); size of labels data: (67,)\n",
      "Size of test features data: (34, 16); size of labels data: (34,)\n"
     ]
    }
   ],
   "source": [
    "#DATA PREPARATION\n",
    "\n",
    "features = data.drop([\"animal_name\", \"class_type\"], axis=1).values\n",
    "labels = data[\"class_type\"].values - 1\n",
    "class_names = np.unique(class_data[\"Class_Type\"].values)\n",
    "X_train, X_test, y_train, y_test = train_test_split(features, labels, test_size = 0.33, random_state = 42, shuffle = True)#\n",
    "\n",
    "print(f\"Size of train features data: {X_train.shape}; size of labels data: {y_train.shape}\")\n",
    "print(f\"Size of test features data: {X_test.shape}; size of labels data: {y_test.shape}\")"
   ]
  },
  {
   "cell_type": "code",
   "execution_count": 9,
   "id": "35c04ee2",
   "metadata": {
    "execution": {
     "iopub.execute_input": "2023-07-15T18:04:09.293744Z",
     "iopub.status.busy": "2023-07-15T18:04:09.293295Z",
     "iopub.status.idle": "2023-07-15T18:04:09.329948Z",
     "shell.execute_reply": "2023-07-15T18:04:09.329297Z"
    },
    "papermill": {
     "duration": 0.044937,
     "end_time": "2023-07-15T18:04:09.331918",
     "exception": false,
     "start_time": "2023-07-15T18:04:09.286981",
     "status": "completed"
    },
    "tags": []
   },
   "outputs": [],
   "source": [
    "#Since the number of animals of some classes is unbalanced, we will use weighted CrossEntropyLoss.\n",
    "#Let's compute the weights for it:\n",
    "\n",
    "def compute_weights(labels):\n",
    "    \n",
    "    counts = np.bincount(labels)\n",
    "    scores = np.sqrt(len(labels) / counts)\n",
    "    weights = torch.from_numpy(scores / np.sum(scores)).float()\n",
    "    \n",
    "    return weights\n",
    "\n",
    "cross_entropy_weights = compute_weights(y_train)"
   ]
  },
  {
   "cell_type": "code",
   "execution_count": 10,
   "id": "c6f4c2c1",
   "metadata": {
    "execution": {
     "iopub.execute_input": "2023-07-15T18:04:09.344666Z",
     "iopub.status.busy": "2023-07-15T18:04:09.344101Z",
     "iopub.status.idle": "2023-07-15T18:04:09.349814Z",
     "shell.execute_reply": "2023-07-15T18:04:09.349253Z"
    },
    "papermill": {
     "duration": 0.013743,
     "end_time": "2023-07-15T18:04:09.351399",
     "exception": false,
     "start_time": "2023-07-15T18:04:09.337656",
     "status": "completed"
    },
    "tags": []
   },
   "outputs": [],
   "source": [
    "class FCNNet(nn.Module):\n",
    "    def __init__(self, n_features, n_classes):\n",
    "        super(FCNNet, self).__init__()\n",
    "        \n",
    "        self.fc1 = nn.Linear(n_features, 64)\n",
    "        self.fc2 = nn.Linear(64, 32)\n",
    "        self.out = nn.Linear(32, n_classes)\n",
    "        \n",
    "        self.dropout = nn.Dropout(p = 0.1)\n",
    "        self.relu = nn.ReLU()\n",
    "    \n",
    "    def forward(self, x):\n",
    "        \n",
    "        x = self.relu(self.dropout(self.fc1(x)))\n",
    "        x = self.relu(self.dropout(self.fc2(x)))\n",
    "        x = self.out(x)\n",
    "        \n",
    "        return x"
   ]
  },
  {
   "cell_type": "code",
   "execution_count": 11,
   "id": "7705ca08",
   "metadata": {
    "execution": {
     "iopub.execute_input": "2023-07-15T18:04:09.363457Z",
     "iopub.status.busy": "2023-07-15T18:04:09.363035Z",
     "iopub.status.idle": "2023-07-15T18:04:09.387607Z",
     "shell.execute_reply": "2023-07-15T18:04:09.386754Z"
    },
    "papermill": {
     "duration": 0.032698,
     "end_time": "2023-07-15T18:04:09.389455",
     "exception": false,
     "start_time": "2023-07-15T18:04:09.356757",
     "status": "completed"
    },
    "tags": []
   },
   "outputs": [
    {
     "data": {
      "text/plain": [
       "FCNNet(\n",
       "  (fc1): Linear(in_features=16, out_features=64, bias=True)\n",
       "  (fc2): Linear(in_features=64, out_features=32, bias=True)\n",
       "  (out): Linear(in_features=32, out_features=7, bias=True)\n",
       "  (dropout): Dropout(p=0.1, inplace=False)\n",
       "  (relu): ReLU()\n",
       ")"
      ]
     },
     "execution_count": 11,
     "metadata": {},
     "output_type": "execute_result"
    }
   ],
   "source": [
    "learning_rate = 0.01\n",
    "epochs = 9\n",
    "n_features = X_train.shape[1]\n",
    "n_classes = len(np.unique(y_train))\n",
    "batch_size = 34\n",
    "\n",
    "animal_classifier = FCNNet(n_features, n_classes)\n",
    "\n",
    "#Basical parameters for the NN-model:\n",
    "device = torch.device('cuda') if torch.cuda.is_available() else torch.device('cpu')\n",
    "criterion = nn.CrossEntropyLoss(weight = cross_entropy_weights).to(device)\n",
    "optimizer = torch.optim.Adam(animal_classifier.parameters(), lr = learning_rate)\n",
    "\n",
    "animal_classifier.to(device)"
   ]
  },
  {
   "cell_type": "code",
   "execution_count": 12,
   "id": "4676d3d8",
   "metadata": {
    "execution": {
     "iopub.execute_input": "2023-07-15T18:04:09.402778Z",
     "iopub.status.busy": "2023-07-15T18:04:09.402266Z",
     "iopub.status.idle": "2023-07-15T18:04:09.410519Z",
     "shell.execute_reply": "2023-07-15T18:04:09.409628Z"
    },
    "papermill": {
     "duration": 0.017194,
     "end_time": "2023-07-15T18:04:09.412672",
     "exception": false,
     "start_time": "2023-07-15T18:04:09.395478",
     "status": "completed"
    },
    "tags": []
   },
   "outputs": [],
   "source": [
    "#TRAIN LOOP\n",
    "def train(model, optimizer, criterion, X_train, y_train, num_epochs = epochs, batch_size = batch_size, device = device):\n",
    "    \n",
    "    train_accuracy = []\n",
    "    train_loss = []\n",
    "    train_f1_score = []\n",
    "    \n",
    "    for epoch in range(epochs):\n",
    "        for i in range(0, X_train.shape[0], batch_size):\n",
    "        \n",
    "            features = torch.from_numpy(X_train[i:batch_size + i, :]).float().to(device)\n",
    "            targets = torch.from_numpy(y_train[i:batch_size+i]).long().to(device)\n",
    "        \n",
    "            predictions = model.forward(features)\n",
    "            loss = criterion(predictions, targets)\n",
    "        \n",
    "            optimizer.zero_grad()\n",
    "            loss.backward()\n",
    "            optimizer.step()\n",
    "        \n",
    "            pred_labels = torch.argmax(predictions, dim = 1)\n",
    "        \n",
    "        f1 = f1_score(targets.numpy(), pred_labels.numpy(), average = \"macro\")\n",
    "        acc = accuracy_score(targets.numpy(), pred_labels.numpy())\n",
    "        \n",
    "        train_loss.append(loss.item())\n",
    "        train_accuracy.append(acc)\n",
    "        train_f1_score.append(f1)\n",
    "        \n",
    "    \n",
    "    return train_accuracy, train_loss, train_f1_score"
   ]
  },
  {
   "cell_type": "code",
   "execution_count": 13,
   "id": "8fdc7e94",
   "metadata": {
    "execution": {
     "iopub.execute_input": "2023-07-15T18:04:09.426402Z",
     "iopub.status.busy": "2023-07-15T18:04:09.426014Z",
     "iopub.status.idle": "2023-07-15T18:04:09.563845Z",
     "shell.execute_reply": "2023-07-15T18:04:09.563160Z"
    },
    "papermill": {
     "duration": 0.146981,
     "end_time": "2023-07-15T18:04:09.565850",
     "exception": false,
     "start_time": "2023-07-15T18:04:09.418869",
     "status": "completed"
    },
    "tags": []
   },
   "outputs": [],
   "source": [
    "train_accuracy, train_loss, train_f1_score = train(animal_classifier, optimizer, criterion, X_train, y_train, num_epochs = epochs, batch_size = batch_size, device = device)"
   ]
  },
  {
   "cell_type": "code",
   "execution_count": 14,
   "id": "998dc19b",
   "metadata": {
    "execution": {
     "iopub.execute_input": "2023-07-15T18:04:09.578783Z",
     "iopub.status.busy": "2023-07-15T18:04:09.578463Z",
     "iopub.status.idle": "2023-07-15T18:04:10.099903Z",
     "shell.execute_reply": "2023-07-15T18:04:10.098687Z"
    },
    "papermill": {
     "duration": 0.530106,
     "end_time": "2023-07-15T18:04:10.101802",
     "exception": false,
     "start_time": "2023-07-15T18:04:09.571696",
     "status": "completed"
    },
    "tags": []
   },
   "outputs": [
    {
     "data": {
      "image/png": "[encoded data removed]",
      "text/plain": [
       "<Figure size 1000x600 with 3 Axes>"
      ]
     },
     "metadata": {},
     "output_type": "display_data"
    }
   ],
   "source": [
    "#VISUALIZING TRAIN STATISTICS \n",
    "\n",
    "fig, ax =  plt.subplots(3, 1, figsize=(10, 6))\n",
    "ax[0].plot(train_loss)\n",
    "ax[0].set_title('Training Loss')\n",
    "ax[1].plot(train_f1_score)\n",
    "ax[1].set_title('Training F1-score')\n",
    "ax[2].plot(train_accuracy)\n",
    "ax[2].set_title('Training accuracy')\n",
    "plt.tight_layout()\n",
    "plt.show()"
   ]
  },
  {
   "cell_type": "code",
   "execution_count": 15,
   "id": "1efa44e6",
   "metadata": {
    "execution": {
     "iopub.execute_input": "2023-07-15T18:04:10.116077Z",
     "iopub.status.busy": "2023-07-15T18:04:10.115781Z",
     "iopub.status.idle": "2023-07-15T18:04:10.123009Z",
     "shell.execute_reply": "2023-07-15T18:04:10.122177Z"
    },
    "papermill": {
     "duration": 0.016577,
     "end_time": "2023-07-15T18:04:10.124804",
     "exception": false,
     "start_time": "2023-07-15T18:04:10.108227",
     "status": "completed"
    },
    "tags": []
   },
   "outputs": [],
   "source": [
    "#MODEL VALIDATION\n",
    "\n",
    "def test(model, criterion, X_test, y_test, batch_size = batch_size, device = device):\n",
    "    model.eval()\n",
    "    with torch.no_grad():\n",
    "        net_predictions = []\n",
    "        test_loss = []\n",
    "        \n",
    "        for i in range(0, X_test.shape[0], batch_size):\n",
    "            \n",
    "            features = torch.from_numpy(X_test[i:batch_size + i, :]).float().to(device)\n",
    "            targets = torch.from_numpy(y_test[i:batch_size+i]).long().to(device)\n",
    "            \n",
    "            predictions = model.forward(features)\n",
    "            loss = criterion(predictions, targets)\n",
    "        \n",
    "            pred_labels = torch.argmax(predictions, dim = 1)\n",
    "            test_loss.append(loss.item())\n",
    "        \n",
    "            net_predictions.extend(pred_labels.numpy())\n",
    "        \n",
    "        test_f1_score = f1_score(targets.numpy(), pred_labels.numpy(), average = \"macro\")\n",
    "        test_accuracy = accuracy_score(targets.numpy(), pred_labels.numpy())\n",
    "        \n",
    "    return {\n",
    "        \"predictions\": net_predictions,\n",
    "        \"targets\" : y_test,\n",
    "        \"accuracy\" : test_accuracy,\n",
    "        \"f1\" : test_f1_score,\n",
    "        \"loss\" : test_loss\n",
    "    }"
   ]
  },
  {
   "cell_type": "code",
   "execution_count": 16,
   "id": "8cef6090",
   "metadata": {
    "execution": {
     "iopub.execute_input": "2023-07-15T18:04:10.137880Z",
     "iopub.status.busy": "2023-07-15T18:04:10.137546Z",
     "iopub.status.idle": "2023-07-15T18:04:10.145778Z",
     "shell.execute_reply": "2023-07-15T18:04:10.144933Z"
    },
    "papermill": {
     "duration": 0.016877,
     "end_time": "2023-07-15T18:04:10.147635",
     "exception": false,
     "start_time": "2023-07-15T18:04:10.130758",
     "status": "completed"
    },
    "tags": []
   },
   "outputs": [
    {
     "name": "stdout",
     "output_type": "stream",
     "text": [
      "Final accuracy : 88.23529411764706%\n",
      "Final F1-score : 69.65367965367966%\n"
     ]
    }
   ],
   "source": [
    "#FINAL STATISTICS  \n",
    "\n",
    "results = test(animal_classifier, criterion, X_test, y_test)\n",
    "\n",
    "print(f\"Final accuracy : \" + str(results[\"accuracy\"]*100) +\"%\")\n",
    "print(f\"Final F1-score : \" + str(results[\"f1\"]*100) +\"%\")"
   ]
  },
  {
   "cell_type": "code",
   "execution_count": 17,
   "id": "20051aa4",
   "metadata": {
    "execution": {
     "iopub.execute_input": "2023-07-15T18:04:10.161896Z",
     "iopub.status.busy": "2023-07-15T18:04:10.160971Z",
     "iopub.status.idle": "2023-07-15T18:04:10.365433Z",
     "shell.execute_reply": "2023-07-15T18:04:10.364247Z"
    },
    "papermill": {
     "duration": 0.212915,
     "end_time": "2023-07-15T18:04:10.367120",
     "exception": false,
     "start_time": "2023-07-15T18:04:10.154205",
     "status": "completed"
    },
    "tags": []
   },
   "outputs": [
    {
     "data": {
      "image/png": "[encoded data removed]",
      "text/plain": [
       "<Figure size 640x480 with 1 Axes>"
      ]
     },
     "metadata": {},
     "output_type": "display_data"
    }
   ],
   "source": [
    "#VISUALIZING TEST STATISTICS \n",
    "\n",
    "plt.plot(results[\"loss\"])\n",
    "plt.title('Test loss (per batch)')\n",
    "plt.tight_layout()\n",
    "plt.show()"
   ]
  },
  {
   "cell_type": "code",
   "execution_count": 18,
   "id": "1173fd7b",
   "metadata": {
    "execution": {
     "iopub.execute_input": "2023-07-15T18:04:10.381090Z",
     "iopub.status.busy": "2023-07-15T18:04:10.380793Z",
     "iopub.status.idle": "2023-07-15T18:04:10.909349Z",
     "shell.execute_reply": "2023-07-15T18:04:10.908502Z"
    },
    "papermill": {
     "duration": 0.537893,
     "end_time": "2023-07-15T18:04:10.911517",
     "exception": false,
     "start_time": "2023-07-15T18:04:10.373624",
     "status": "completed"
    },
    "tags": []
   },
   "outputs": [
    {
     "data": {
      "text/plain": [
       "<Axes: >"
      ]
     },
     "execution_count": 18,
     "metadata": {},
     "output_type": "execute_result"
    },
    {
     "data": {
      "image/png": "[encoded data removed]",
      "text/plain": [
       "<Figure size 640x480 with 2 Axes>"
      ]
     },
     "metadata": {},
     "output_type": "display_data"
    }
   ],
   "source": [
    "conf_matrix = confusion_matrix(results[\"targets\"], results[\"predictions\"])\n",
    "sns.heatmap(conf_matrix, annot = True, cbar = True, xticklabels=class_names,\n",
    "            yticklabels=class_names)"
   ]
  },
  {
   "cell_type": "code",
   "execution_count": 19,
   "id": "70205d0c",
   "metadata": {
    "execution": {
     "iopub.execute_input": "2023-07-15T18:04:10.927697Z",
     "iopub.status.busy": "2023-07-15T18:04:10.927007Z",
     "iopub.status.idle": "2023-07-15T18:04:10.937130Z",
     "shell.execute_reply": "2023-07-15T18:04:10.936188Z"
    },
    "papermill": {
     "duration": 0.020016,
     "end_time": "2023-07-15T18:04:10.938927",
     "exception": false,
     "start_time": "2023-07-15T18:04:10.918911",
     "status": "completed"
    },
    "tags": []
   },
   "outputs": [
    {
     "name": "stdout",
     "output_type": "stream",
     "text": [
      "              precision    recall  f1-score   support\n",
      "\n",
      "           0       1.00      1.00      1.00        17\n",
      "           1       1.00      1.00      1.00         3\n",
      "           2       1.00      0.00      0.00         2\n",
      "           3       0.50      1.00      0.67         2\n",
      "           4       0.67      1.00      0.80         2\n",
      "           5       0.83      1.00      0.91         5\n",
      "           6       1.00      0.33      0.50         3\n",
      "\n",
      "    accuracy                           0.88        34\n",
      "   macro avg       0.86      0.76      0.70        34\n",
      "weighted avg       0.93      0.88      0.85        34\n",
      "\n"
     ]
    }
   ],
   "source": [
    "print(classification_report(results[\"targets\"], results[\"predictions\"], zero_division = True))"
   ]
  },
  {
   "cell_type": "code",
   "execution_count": null,
   "id": "5a32dcaa",
   "metadata": {
    "papermill": {
     "duration": 0.00652,
     "end_time": "2023-07-15T18:04:10.952536",
     "exception": false,
     "start_time": "2023-07-15T18:04:10.946016",
     "status": "completed"
    },
    "tags": []
   },
   "outputs": [],
   "source": []
  },
  {
   "cell_type": "code",
   "execution_count": null,
   "id": "0e7b7c12",
   "metadata": {
    "papermill": {
     "duration": 0.006347,
     "end_time": "2023-07-15T18:04:10.965596",
     "exception": false,
     "start_time": "2023-07-15T18:04:10.959249",
     "status": "completed"
    },
    "tags": []
   },
   "outputs": [],
   "source": []
  },
  {
   "cell_type": "code",
   "execution_count": null,
   "id": "0e92353c",
   "metadata": {
    "papermill": {
     "duration": 0.006382,
     "end_time": "2023-07-15T18:04:10.978605",
     "exception": false,
     "start_time": "2023-07-15T18:04:10.972223",
     "status": "completed"
    },
    "tags": []
   },
   "outputs": [],
   "source": []
  },
  {
   "cell_type": "code",
   "execution_count": null,
   "id": "2ecce821",
   "metadata": {
    "papermill": {
     "duration": 0.006355,
     "end_time": "2023-07-15T18:04:10.991734",
     "exception": false,
     "start_time": "2023-07-15T18:04:10.985379",
     "status": "completed"
    },
    "tags": []
   },
   "outputs": [],
   "source": []
  }
 ],
 "metadata": {
  "kernelspec": {
   "display_name": "Python 3",
   "language": "python",
   "name": "python3"
  },
  "language_info": {
   "codemirror_mode": {
    "name": "ipython",
    "version": 3
   },
   "file_extension": ".py",
   "mimetype": "text/x-python",
   "name": "python",
   "nbconvert_exporter": "python",
   "pygments_lexer": "ipython3",
   "version": "3.10.12"
  },
  "papermill": {
   "default_parameters": {},
   "duration": 14.958136,
   "end_time": "2023-07-15T18:04:12.219827",
   "environment_variables": {},
   "exception": null,
   "input_path": "__notebook__.ipynb",
   "output_path": "__notebook__.ipynb",
   "parameters": {},
   "start_time": "2023-07-15T18:03:57.261691",
   "version": "2.4.0"
  }
 },
 "nbformat": 4,
 "nbformat_minor": 5
}
