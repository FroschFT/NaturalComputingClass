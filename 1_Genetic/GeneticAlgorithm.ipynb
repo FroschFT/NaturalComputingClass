{
 "cells": [
  {
   "cell_type": "code",
   "execution_count": 1,
   "metadata": {},
   "outputs": [],
   "source": [
    "import random\n",
    "import numpy as np\n",
    "import matplotlib.pyplot as plt\n",
    "from GA import Individuo, AlgoritmoGenetico"
   ]
  },
  {
   "cell_type": "markdown",
   "metadata": {},
   "source": [
    "In mathematical optimization, Himmelblau's function is a multi-modal function, used to test the performance of optimization algorithms. The function is defined by:\n",
    "# Himmelblau's Function\n",
    "\n",
    "The Himmelblau's function is defined as:\n",
    "\n",
    "$$\n",
    "f(x, y) = (x^2 + y - 11)^2 + (x + y^2 - 7)^2\n",
    "$$\n",
    "\n",
    "$$\n",
    "    -5 \\leq x, y \\leq 5\n",
    "$$\n",
    "\n",
    "It has one local maximum at \\( x = -0.270845 \\) and \\( y = -0.923039 \\) where \\( f(x, y) = 181.617 \\), and four identical local minima:\n",
    "\n",
    "- f(3, 2) = 0\n",
    "- f(-2.805118, 3.131312) = 0\n",
    "- f(-3.779310, -3.283186) = 0\n",
    "- f(3.584428, -1.848126) = 0\n",
    "\n",
    "The locations of all the minima can be found analytically. However, because they are roots of cubic polynomials, when written in terms of radicals, the expressions are somewhat complicated.\n",
    "\n",
    "For more information, you can refer to the following resources:\n",
    "- [Wikipedia: Himmelblau's function](https://en.wikipedia.org/wiki/Himmelblau%27s_function)\n",
    "- [Unicamp: Himmelblau's function](https://www.dca.fee.unicamp.br/WSC7/presentations/presentation-55/node15.html)\n"
   ]
  },
  {
   "cell_type": "code",
   "execution_count": 2,
   "metadata": {},
   "outputs": [],
   "source": [
    "# Define Himmelblau's function\n",
    "def himmelblau(x:float, y:float) -> float:\n",
    "    \"\"\"\n",
    "    Calculate the value of the Himmelblau's function for given x and y.\n",
    "    Himmelblau's function is a multi-modal function used to test the performance of optimization algorithms.\n",
    "\n",
    "    Parameters:\n",
    "        x (float): The x-coordinate.\n",
    "        y (float): The y-coordinate.\n",
    "\n",
    "    Returns:\n",
    "        float: The value of the Himmelblau's function at the given coordinates.\n",
    "    \"\"\"\n",
    "    return (x**2 + y - 11)**2 + (x + y**2 - 7)**2"
   ]
  },
  {
   "cell_type": "markdown",
   "metadata": {},
   "source": [
    "# Algoritmo"
   ]
  },
  {
   "cell_type": "markdown",
   "metadata": {},
   "source": [
    "## A codificação de um indivíduo em termos de seu genótipo e fenótipo\n",
    "### genótipo:\n",
    "um par ordenado (x,y)\n",
    "poderia ser uma vetor binário que representasse uma função expandida de aproximação para os valores\n",
    "\n",
    "### fenótipo:\n",
    "os proprios valores do um ordenado (x,y)"
   ]
  },
  {
   "cell_type": "markdown",
   "metadata": {},
   "source": [
    "## A função de fitness utilizada\n",
    "a propria função de Himmelblau"
   ]
  },
  {
   "cell_type": "markdown",
   "metadata": {},
   "source": [
    "## Parametros"
   ]
  },
  {
   "cell_type": "code",
   "execution_count": 3,
   "metadata": {},
   "outputs": [],
   "source": [
    "## Apresente os parâmetros (tamanho da população, taxa de mutação, quantidade de gerações) utilizados para executar o algoritmo;\n",
    "tamanho_populacao = 20\n",
    "taxa_mutacao=0.2\n",
    "numero_geracoes=200"
   ]
  },
  {
   "cell_type": "markdown",
   "metadata": {},
   "source": [
    "## Code"
   ]
  },
  {
   "cell_type": "code",
   "execution_count": 4,
   "metadata": {},
   "outputs": [],
   "source": [
    "ag = AlgoritmoGenetico(tamanho_populacao)\n",
    "ag.inicializa_populacao()"
   ]
  },
  {
   "cell_type": "code",
   "execution_count": 5,
   "metadata": {},
   "outputs": [
    {
     "name": "stdout",
     "output_type": "stream",
     "text": [
      "G:0 -> fitness: 44.41 coordenadas: [3.27105806555436, -3.07787527178369]\n",
      "G:1 -> fitness: 17.80 coordenadas: [3.0526864004485788, -0.6634700496588586]\n",
      "G:2 -> fitness: 8.49 coordenadas: [-2.3844768834110006, 2.809819554075088]\n",
      "G:3 -> fitness: 16.86 coordenadas: [3.0526864004485788, 2.809819554075088]\n",
      "G:4 -> fitness: 14.37 coordenadas: [3.0526864004485788, -1.2353126031105943]\n",
      "G:5 -> fitness: 68.22 coordenadas: [-2.3844768834110006, -2.823937678655191]\n",
      "G:6 -> fitness: 45.36 coordenadas: [4.292486590060543, -0.9415290496857336]\n",
      "G:7 -> fitness: 13.00 coordenadas: [-3.3452225149153456, -3.448279514196476]\n",
      "G:8 -> fitness: 9.15 coordenadas: [-3.3452225149153456, -3.2158118969307896]\n",
      "G:9 -> fitness: 68.22 coordenadas: [-2.3844768834110006, -2.823937678655191]\n",
      "G:10 -> fitness: 57.23 coordenadas: [-2.533408895600141, -2.8940656812130885]\n",
      "G:11 -> fitness: 57.79 coordenadas: [-2.533408895600141, -3.0029372545381805]\n",
      "G:12 -> fitness: 49.71 coordenadas: [-3.1394298431547547, -1.9504338512446593]\n",
      "G:13 -> fitness: 29.05 coordenadas: [-3.028393621537381, -2.6521601469662675]\n",
      "G:14 -> fitness: 57.26 coordenadas: [-2.5404079006260147, -3.0029372545381805]\n",
      "G:15 -> fitness: 57.79 coordenadas: [-2.533408895600141, -3.0029372545381805]\n",
      "G:16 -> fitness: 57.79 coordenadas: [-2.533408895600141, -3.0029372545381805]\n",
      "G:17 -> fitness: 63.97 coordenadas: [-2.533408895600141, -2.3569866387642495]\n",
      "G:18 -> fitness: 46.39 coordenadas: [-3.3456047378570757, -3.9992477342999537]\n",
      "G:19 -> fitness: 71.74 coordenadas: [-2.3844768834110006, -3.1417507842055565]\n",
      "G:20 -> fitness: 50.33 coordenadas: [-2.6357602537393667, -3.0246054725328815]\n",
      "G:21 -> fitness: 28.83 coordenadas: [-3.805595610183426, -2.3569866387642495]\n",
      "G:22 -> fitness: 28.83 coordenadas: [-3.805595610183426, -2.3569866387642495]\n",
      "G:23 -> fitness: 57.73 coordenadas: [-2.6357602537393667, -2.3569866387642495]\n",
      "G:24 -> fitness: 25.70 coordenadas: [-3.020963725532272, -2.868613797434892]\n",
      "G:25 -> fitness: 37.84 coordenadas: [-3.020963725532272, -2.3569866387642495]\n",
      "G:26 -> fitness: 38.24 coordenadas: [-3.020963725532272, -2.345121552676126]\n",
      "G:27 -> fitness: 27.72 coordenadas: [-3.367456561907882, -2.345121552676126]\n",
      "G:28 -> fitness: 30.54 coordenadas: [-3.225291469949808, -2.3569866387642495]\n",
      "G:29 -> fitness: 30.00 coordenadas: [-3.1197143773622145, -2.4737842839899162]\n",
      "G:30 -> fitness: 24.95 coordenadas: [-3.1197143773622145, -2.6497283839954973]\n",
      "G:31 -> fitness: 21.15 coordenadas: [-3.1197143773622145, -3.2835992539855243]\n",
      "G:32 -> fitness: 33.97 coordenadas: [-3.1197143773622145, -2.3569866387642495]\n",
      "G:33 -> fitness: 19.63 coordenadas: [-3.2437852335671162, -2.669141275782473]\n",
      "G:34 -> fitness: 20.05 coordenadas: [-3.1197143773622145, -2.9219777670120433]\n",
      "G:35 -> fitness: 20.05 coordenadas: [-3.1197143773622145, -2.9219777670120433]\n",
      "G:36 -> fitness: 25.76 coordenadas: [-3.486692395624596, -2.3569866387642495]\n",
      "G:37 -> fitness: 3.70 coordenadas: [-3.9836519604259735, -3.173941568701914]\n",
      "G:38 -> fitness: 3.70 coordenadas: [-3.9836519604259735, -3.173941568701914]\n",
      "G:39 -> fitness: 19.73 coordenadas: [-3.1197143773622145, -3.173941568701914]\n",
      "G:40 -> fitness: 0.66 coordenadas: [-3.695248545216659, -3.173941568701914]\n",
      "G:41 -> fitness: 14.42 coordenadas: [-4.014366154529642, -2.825793993509119]\n",
      "G:42 -> fitness: 14.42 coordenadas: [-4.014366154529642, -2.825793993509119]\n",
      "G:43 -> fitness: 4.65 coordenadas: [-4.014366154529642, -3.173941568701914]\n",
      "G:44 -> fitness: 15.08 coordenadas: [-3.2082713326126013, -3.173941568701914]\n",
      "G:45 -> fitness: 14.42 coordenadas: [-4.014366154529642, -2.825793993509119]\n",
      "G:46 -> fitness: 15.59 coordenadas: [-3.210206979166802, -2.9470632158882513]\n",
      "G:47 -> fitness: 11.95 coordenadas: [-3.300143752178479, -2.9470632158882513]\n",
      "G:48 -> fitness: 4.84 coordenadas: [-3.7506548990130684, -2.925082650153118]\n",
      "G:49 -> fitness: 7.87 coordenadas: [-3.927474549756324, -2.925082650153118]\n",
      "G:50 -> fitness: 8.63 coordenadas: [-4.024567014009691, -3.6798099176588446]\n",
      "G:51 -> fitness: 11.26 coordenadas: [-4.024567014009691, -2.925082650153118]\n",
      "G:52 -> fitness: 11.26 coordenadas: [-4.024567014009691, -2.925082650153118]\n",
      "G:53 -> fitness: 3.50 coordenadas: [-4.024567014009691, -3.327113054457805]\n",
      "G:54 -> fitness: 7.96 coordenadas: [-4.024567014009691, -3.0350288236340095]\n",
      "G:55 -> fitness: 7.96 coordenadas: [-4.024567014009691, -3.0350288236340095]\n",
      "G:56 -> fitness: 2.84 coordenadas: [-3.898990226035619, -3.10212769717877]\n",
      "G:57 -> fitness: 1.76 coordenadas: [-3.828299776221704, -3.10212769717877]\n",
      "G:58 -> fitness: 6.35 coordenadas: [-4.024567014009691, -3.10212769717877]\n",
      "G:59 -> fitness: 1.95 coordenadas: [-3.8446685605891116, -3.10212769717877]\n",
      "G:60 -> fitness: 1.95 coordenadas: [-3.8446685605891116, -3.10212769717877]\n",
      "G:61 -> fitness: 0.50 coordenadas: [-3.725905896952826, -3.1750236322375773]\n",
      "G:62 -> fitness: 0.95 coordenadas: [-3.8446685605891116, -3.1750236322375773]\n",
      "G:63 -> fitness: 0.95 coordenadas: [-3.8446685605891116, -3.1750236322375773]\n",
      "G:64 -> fitness: 0.83 coordenadas: [-3.833156945770572, -3.1750236322375773]\n",
      "G:65 -> fitness: 0.83 coordenadas: [-3.833156945770572, -3.1750236322375773]\n",
      "G:66 -> fitness: 0.83 coordenadas: [-3.833156945770572, -3.1750236322375773]\n",
      "G:67 -> fitness: 0.83 coordenadas: [-3.833156945770572, -3.1750236322375773]\n",
      "G:68 -> fitness: 0.83 coordenadas: [-3.833156945770572, -3.1750236322375773]\n",
      "G:69 -> fitness: 0.46 coordenadas: [-3.7476792585114476, -3.1750236322375773]\n",
      "G:70 -> fitness: 0.83 coordenadas: [-3.833156945770572, -3.1750236322375773]\n",
      "G:71 -> fitness: 0.22 coordenadas: [-3.833156945770572, -3.263043233257826]\n",
      "G:72 -> fitness: 0.22 coordenadas: [-3.833156945770572, -3.263043233257826]\n",
      "G:73 -> fitness: 0.22 coordenadas: [-3.833156945770572, -3.263043233257826]\n",
      "G:74 -> fitness: 0.09 coordenadas: [-3.737565556406601, -3.263043233257826]\n",
      "G:75 -> fitness: 0.09 coordenadas: [-3.737565556406601, -3.263043233257826]\n",
      "G:76 -> fitness: 0.09 coordenadas: [-3.737565556406601, -3.263043233257826]\n",
      "G:77 -> fitness: 0.09 coordenadas: [-3.737565556406601, -3.263043233257826]\n",
      "G:78 -> fitness: 0.09 coordenadas: [-3.737565556406601, -3.263043233257826]\n",
      "G:79 -> fitness: 0.09 coordenadas: [-3.737565556406601, -3.263043233257826]\n",
      "G:80 -> fitness: 0.09 coordenadas: [-3.737565556406601, -3.263043233257826]\n",
      "G:81 -> fitness: 0.09 coordenadas: [-3.737565556406601, -3.263043233257826]\n",
      "G:82 -> fitness: 0.09 coordenadas: [-3.737565556406601, -3.263043233257826]\n",
      "G:83 -> fitness: 0.09 coordenadas: [-3.737565556406601, -3.263043233257826]\n",
      "G:84 -> fitness: 0.04 coordenadas: [-3.755326289446758, -3.263043233257826]\n",
      "G:85 -> fitness: 0.09 coordenadas: [-3.737565556406601, -3.263043233257826]\n",
      "G:86 -> fitness: 0.09 coordenadas: [-3.737565556406601, -3.263043233257826]\n",
      "G:87 -> fitness: 0.09 coordenadas: [-3.737565556406601, -3.263043233257826]\n",
      "G:88 -> fitness: 0.09 coordenadas: [-3.737565556406601, -3.263043233257826]\n",
      "G:89 -> fitness: 0.09 coordenadas: [-3.737565556406601, -3.263043233257826]\n",
      "G:90 -> fitness: 0.09 coordenadas: [-3.737565556406601, -3.263043233257826]\n",
      "G:91 -> fitness: 4.18 coordenadas: [-4.033776737292901, -3.263043233257826]\n",
      "G:92 -> fitness: 0.12 coordenadas: [-3.737565556406601, -3.2433592363251913]\n",
      "G:93 -> fitness: 23.47 coordenadas: [-3.153628529326225, -2.6522903913065528]\n",
      "G:94 -> fitness: 14.39 coordenadas: [-3.4852761875235876, -2.645786198831514]\n",
      "G:95 -> fitness: 4.29 coordenadas: [-3.4852761875235876, -3.1654379261638748]\n",
      "G:96 -> fitness: 2.37 coordenadas: [-3.737565556406601, -3.033088446445861]\n",
      "G:97 -> fitness: 5.21 coordenadas: [-3.4852761875235876, -3.033088446445861]\n",
      "G:98 -> fitness: 5.21 coordenadas: [-3.4852761875235876, -3.033088446445861]\n",
      "G:99 -> fitness: 4.83 coordenadas: [-3.4852761875235876, -3.06891092069794]\n",
      "G:100 -> fitness: 2.53 coordenadas: [-3.6072864837378473, -3.06891092069794]\n",
      "G:101 -> fitness: 2.09 coordenadas: [-3.648642308076814, -3.06891092069794]\n",
      "G:102 -> fitness: 1.91 coordenadas: [-3.648642308076814, -3.392859970581754]\n",
      "G:103 -> fitness: 1.07 coordenadas: [-3.648642308076814, -3.3070621706932806]\n",
      "G:104 -> fitness: 1.39 coordenadas: [-3.648642308076814, -3.130785604902626]\n",
      "G:105 -> fitness: 0.27 coordenadas: [-3.7720114497521324, -3.3572041729711195]\n",
      "G:106 -> fitness: 1.04 coordenadas: [-3.6782376845776525, -3.3572041729711195]\n",
      "G:107 -> fitness: 1.48 coordenadas: [-3.648642308076814, -3.3572041729711195]\n",
      "G:108 -> fitness: 0.27 coordenadas: [-3.7720114497521324, -3.3572041729711195]\n",
      "G:109 -> fitness: 0.27 coordenadas: [-3.7720114497521324, -3.3572041729711195]\n",
      "G:110 -> fitness: 1.48 coordenadas: [-3.648642308076814, -3.3572041729711195]\n",
      "G:111 -> fitness: 0.27 coordenadas: [-3.7720114497521324, -3.3572041729711195]\n",
      "G:112 -> fitness: 0.27 coordenadas: [-3.7720114497521324, -3.3572041729711195]\n",
      "G:113 -> fitness: 0.27 coordenadas: [-3.7720114497521324, -3.3572041729711195]\n",
      "G:114 -> fitness: 0.27 coordenadas: [-3.7720114497521324, -3.3572041729711195]\n",
      "G:115 -> fitness: 0.27 coordenadas: [-3.7720114497521324, -3.3572041729711195]\n",
      "G:116 -> fitness: 0.27 coordenadas: [-3.7720114497521324, -3.3572041729711195]\n",
      "G:117 -> fitness: 0.27 coordenadas: [-3.7720114497521324, -3.3572041729711195]\n",
      "G:118 -> fitness: 0.27 coordenadas: [-3.7720114497521324, -3.3572041729711195]\n",
      "G:119 -> fitness: 0.27 coordenadas: [-3.7720114497521324, -3.3572041729711195]\n",
      "G:120 -> fitness: 0.23 coordenadas: [-3.7868995523571884, -3.3572041729711195]\n",
      "G:121 -> fitness: 0.23 coordenadas: [-3.7868995523571884, -3.3572041729711195]\n",
      "G:122 -> fitness: 0.23 coordenadas: [-3.7868995523571884, -3.3572041729711195]\n",
      "G:123 -> fitness: 0.23 coordenadas: [-3.7868995523571884, -3.3572041729711195]\n",
      "G:124 -> fitness: 0.23 coordenadas: [-3.7868995523571884, -3.3572041729711195]\n",
      "G:125 -> fitness: 0.27 coordenadas: [-3.7720114497521324, -3.3572041729711195]\n",
      "G:126 -> fitness: 0.10 coordenadas: [-3.7720114497521324, -3.2340408028706493]\n",
      "G:127 -> fitness: 0.69 coordenadas: [-3.707887944201425, -3.3572041729711195]\n",
      "G:128 -> fitness: 0.27 coordenadas: [-3.7720114497521324, -3.3572041729711195]\n",
      "G:129 -> fitness: 0.69 coordenadas: [-3.707887944201425, -3.3572041729711195]\n",
      "G:130 -> fitness: 0.69 coordenadas: [-3.707887944201425, -3.3572041729711195]\n",
      "G:131 -> fitness: 0.69 coordenadas: [-3.707887944201425, -3.3572041729711195]\n",
      "G:132 -> fitness: 0.35 coordenadas: [-3.843399310718006, -3.3572041729711195]\n",
      "G:133 -> fitness: 0.35 coordenadas: [-3.843399310718006, -3.3572041729711195]\n",
      "G:134 -> fitness: 0.35 coordenadas: [-3.843399310718006, -3.3572041729711195]\n",
      "G:135 -> fitness: 0.35 coordenadas: [-3.843399310718006, -3.3572041729711195]\n",
      "G:136 -> fitness: 0.35 coordenadas: [-3.843399310718006, -3.3572041729711195]\n",
      "G:137 -> fitness: 0.35 coordenadas: [-3.843399310718006, -3.3572041729711195]\n",
      "G:138 -> fitness: 0.35 coordenadas: [-3.843399310718006, -3.3572041729711195]\n",
      "G:139 -> fitness: 0.35 coordenadas: [-3.843399310718006, -3.3572041729711195]\n",
      "G:140 -> fitness: 0.24 coordenadas: [-3.7814023413866797, -3.3572041729711195]\n",
      "G:141 -> fitness: 0.35 coordenadas: [-3.843399310718006, -3.3572041729711195]\n",
      "G:142 -> fitness: 0.35 coordenadas: [-3.843399310718006, -3.3572041729711195]\n",
      "G:143 -> fitness: 0.35 coordenadas: [-3.843399310718006, -3.3572041729711195]\n",
      "G:144 -> fitness: 0.28 coordenadas: [-3.843399310718006, -3.339346046533385]\n",
      "G:145 -> fitness: 0.35 coordenadas: [-3.843399310718006, -3.3572041729711195]\n",
      "G:146 -> fitness: 0.71 coordenadas: [-3.706156036109922, -3.3572041729711195]\n",
      "G:147 -> fitness: 0.50 coordenadas: [-3.706156036109922, -3.188559644687512]\n",
      "G:148 -> fitness: 0.50 coordenadas: [-3.706156036109922, -3.188559644687512]\n",
      "G:149 -> fitness: 0.69 coordenadas: [-3.8854116928371925, -3.3572041729711195]\n",
      "G:150 -> fitness: 0.62 coordenadas: [-3.878170434218328, -3.3572041729711195]\n",
      "G:151 -> fitness: 0.62 coordenadas: [-3.714476748037862, -3.3572041729711195]\n",
      "G:152 -> fitness: 0.62 coordenadas: [-3.714476748037862, -3.3572041729711195]\n",
      "G:153 -> fitness: 0.28 coordenadas: [-3.8263805977239875, -3.3572041729711195]\n",
      "G:154 -> fitness: 0.28 coordenadas: [-3.8263805977239875, -3.3572041729711195]\n",
      "G:155 -> fitness: 0.28 coordenadas: [-3.8263805977239875, -3.3572041729711195]\n",
      "G:156 -> fitness: 0.21 coordenadas: [-3.766185955572624, -3.2110204373800038]\n",
      "G:157 -> fitness: 0.21 coordenadas: [-3.766185955572624, -3.2110204373800038]\n",
      "G:158 -> fitness: 0.21 coordenadas: [-3.766185955572624, -3.2110204373800038]\n",
      "G:159 -> fitness: 0.28 coordenadas: [-3.766185955572624, -3.3572041729711195]\n",
      "G:160 -> fitness: 0.28 coordenadas: [-3.766185955572624, -3.3572041729711195]\n",
      "G:161 -> fitness: 0.28 coordenadas: [-3.766185955572624, -3.3572041729711195]\n",
      "G:162 -> fitness: 0.28 coordenadas: [-3.766185955572624, -3.3572041729711195]\n",
      "G:163 -> fitness: 0.06 coordenadas: [-3.766185955572624, -3.24359504479788]\n",
      "G:164 -> fitness: 0.06 coordenadas: [-3.766185955572624, -3.24359504479788]\n",
      "G:165 -> fitness: 0.02 coordenadas: [-3.766185955572624, -3.290724106533589]\n",
      "G:166 -> fitness: 0.06 coordenadas: [-3.766185955572624, -3.24359504479788]\n",
      "G:167 -> fitness: 0.01 coordenadas: [-3.766185955572624, -3.270646972729062]\n",
      "G:168 -> fitness: 0.01 coordenadas: [-3.766185955572624, -3.270646972729062]\n",
      "G:169 -> fitness: 0.06 coordenadas: [-3.766185955572624, -3.24359504479788]\n",
      "G:170 -> fitness: 0.06 coordenadas: [-3.766185955572624, -3.24359504479788]\n",
      "G:171 -> fitness: 0.06 coordenadas: [-3.766185955572624, -3.24359504479788]\n",
      "G:172 -> fitness: 0.27 coordenadas: [-3.7088882032807775, -3.24359504479788]\n",
      "G:173 -> fitness: 0.23 coordenadas: [-3.8438339012904734, -3.301439159992027]\n",
      "G:174 -> fitness: 1.58 coordenadas: [-3.8438339012904734, -3.473560106939225]\n",
      "G:175 -> fitness: 1.58 coordenadas: [-3.8438339012904734, -3.473560106939225]\n",
      "G:176 -> fitness: 0.94 coordenadas: [-3.7088882032807775, -3.1326264205805145]\n",
      "G:177 -> fitness: 1.58 coordenadas: [-3.8438339012904734, -3.473560106939225]\n",
      "G:178 -> fitness: 0.27 coordenadas: [-3.7138454570460504, -3.295008425858553]\n",
      "G:179 -> fitness: 0.23 coordenadas: [-3.8438339012904734, -3.295008425858553]\n",
      "G:180 -> fitness: 0.23 coordenadas: [-3.8438339012904734, -3.295008425858553]\n",
      "G:181 -> fitness: 0.23 coordenadas: [-3.8438339012904734, -3.295008425858553]\n",
      "G:182 -> fitness: 0.23 coordenadas: [-3.8438339012904734, -3.295008425858553]\n",
      "G:183 -> fitness: 0.23 coordenadas: [-3.8438339012904734, -3.295008425858553]\n",
      "G:184 -> fitness: 0.23 coordenadas: [-3.8438339012904734, -3.295008425858553]\n",
      "G:185 -> fitness: 0.23 coordenadas: [-3.8438339012904734, -3.295008425858553]\n",
      "G:186 -> fitness: 0.23 coordenadas: [-3.8438339012904734, -3.295008425858553]\n",
      "G:187 -> fitness: 0.23 coordenadas: [-3.8438339012904734, -3.295008425858553]\n",
      "G:188 -> fitness: 0.23 coordenadas: [-3.8438339012904734, -3.295008425858553]\n",
      "G:189 -> fitness: 0.23 coordenadas: [-3.8438339012904734, -3.295008425858553]\n",
      "G:190 -> fitness: 0.23 coordenadas: [-3.8438339012904734, -3.295008425858553]\n",
      "G:191 -> fitness: 0.23 coordenadas: [-3.8438339012904734, -3.295008425858553]\n",
      "G:192 -> fitness: 0.23 coordenadas: [-3.8438339012904734, -3.295008425858553]\n",
      "G:193 -> fitness: 0.23 coordenadas: [-3.8438339012904734, -3.295008425858553]\n",
      "G:194 -> fitness: 0.23 coordenadas: [-3.8438339012904734, -3.295008425858553]\n",
      "G:195 -> fitness: 0.23 coordenadas: [-3.8438339012904734, -3.295008425858553]\n",
      "G:196 -> fitness: 0.23 coordenadas: [-3.8438339012904734, -3.295008425858553]\n",
      "G:197 -> fitness: 0.23 coordenadas: [-3.8438339012904734, -3.295008425858553]\n",
      "G:198 -> fitness: 4.06 coordenadas: [-3.8438339012904734, -3.584788653462466]\n",
      "G:199 -> fitness: 0.33 coordenadas: [-3.8510731716713877, -3.2739842435012196]\n",
      "\n",
      "Melhor solução -> G: 167 \\.fitness: 0.01 coordenadas: [-3.766185955572624, -3.270646972729062]\n"
     ]
    }
   ],
   "source": [
    "ag.run_algoritmo(taxa_mutacao,numero_geracoes)"
   ]
  },
  {
   "cell_type": "code",
   "execution_count": 6,
   "metadata": {},
   "outputs": [
    {
     "data": {
      "text/plain": [
       "<Individuo(chromosome=[-3.766185955572624, -3.270646972729062], fitness=0.012249076818783549, geracao=167, prob=0.22645507511024035)>"
      ]
     },
     "execution_count": 6,
     "metadata": {},
     "output_type": "execute_result"
    }
   ],
   "source": [
    "## Apresente o(s) indivíduo(s) com maior fitness ao final das gerações, indicando também que valor a função assume nesse(s) pontos\n",
    "ag.melhor_solucao"
   ]
  },
  {
   "cell_type": "markdown",
   "metadata": {},
   "source": [
    "## Compare os resultados por você obtidos com os mínimos conhecidos (pesquise por Função de Himmelblau para verificar quais são)\n",
    "mínimos conhecidos:\n",
    " - f(3,2) = 0\n",
    " - f(-2.805118,3.131312) = 0\n",
    " - f(-3.779310,-3.283186) = 0\n",
    " - f(3.584428,-1.848126) = 0\n",
    "\n",
    "\n",
    "<Individuo(chromosome=[3.0018890159481293, 1.9956707839230055], fitness=0.00028655889863344876, geracao=170, prob=0.16340380508018987)>\n",
    "\n",
    "f(3,2) = 0"
   ]
  },
  {
   "cell_type": "markdown",
   "metadata": {},
   "source": [
    "# Simulação"
   ]
  },
  {
   "cell_type": "code",
   "execution_count": 7,
   "metadata": {},
   "outputs": [],
   "source": [
    "resultados = []\n",
    "for x in ag.lista_solucoes:\n",
    "    resultados.append(x.fitness)"
   ]
  },
  {
   "cell_type": "code",
   "execution_count": 8,
   "metadata": {},
   "outputs": [
    {
     "data": {
      "image/png": "[encoded data removed]",
      "text/plain": [
       "<Figure size 640x480 with 1 Axes>"
      ]
     },
     "metadata": {},
     "output_type": "display_data"
    }
   ],
   "source": [
    "## Inclua um gráfico mostrando a variação do fitness médio e fitness máximo ao longo das gerações;\n",
    "plt.plot(resultados)\n",
    "plt.title(\"Acompanhamento dos valores\")\n",
    "plt.show()"
   ]
  }
 ],
 "metadata": {
  "kernelspec": {
   "display_name": "base",
   "language": "python",
   "name": "python3"
  },
  "language_info": {
   "codemirror_mode": {
    "name": "ipython",
    "version": 3
   },
   "file_extension": ".py",
   "mimetype": "text/x-python",
   "name": "python",
   "nbconvert_exporter": "python",
   "pygments_lexer": "ipython3",
   "version": "3.12.0"
  },
  "orig_nbformat": 4
 },
 "nbformat": 4,
 "nbformat_minor": 2
}
